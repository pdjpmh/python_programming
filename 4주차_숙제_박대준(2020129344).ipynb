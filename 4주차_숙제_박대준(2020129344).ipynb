{
  "nbformat": 4,
  "nbformat_minor": 0,
  "metadata": {
    "colab": {
      "provenance": [],
      "authorship_tag": "ABX9TyOGMZ3OC2vWKjBpYWI/2k4r",
      "include_colab_link": true
    },
    "kernelspec": {
      "name": "python3",
      "display_name": "Python 3"
    },
    "language_info": {
      "name": "python"
    }
  },
  "cells": [
    {
      "cell_type": "markdown",
      "metadata": {
        "id": "view-in-github",
        "colab_type": "text"
      },
      "source": [
        "<a href=\"https://colab.research.google.com/github/pdjpmh/python_programming/blob/main/4%EC%A3%BC%EC%B0%A8_%EC%88%99%EC%A0%9C_%EB%B0%95%EB%8C%80%EC%A4%80(2020129344).ipynb\" target=\"_parent\"><img src=\"https://colab.research.google.com/assets/colab-badge.svg\" alt=\"Open In Colab\"/></a>"
      ]
    },
    {
      "cell_type": "code",
      "source": [
        "# Write an if statement to determine if an album had a rating greater than 8. \n",
        "# Test it using the rating for the album “Back in Black” that had a rating of 8.5. \n",
        "# If the statement is true print \"This album is Amazing!\"\n",
        "\n",
        "rating = 8.5\n",
        "if rating > 8:\n",
        "    print (\"This album is Amazing!\")\n",
        "\n"
      ],
      "metadata": {
        "colab": {
          "base_uri": "https://localhost:8080/"
        },
        "id": "OIwuy2duIVzK",
        "outputId": "5d624837-0f45-421a-ca3a-55d7f77f09a0"
      },
      "execution_count": 5,
      "outputs": [
        {
          "output_type": "stream",
          "name": "stdout",
          "text": [
            "This album is Amazing!\n"
          ]
        }
      ]
    },
    {
      "cell_type": "code",
      "source": [
        "# Write an if-else statement that performs the following. \n",
        "#If the rating is larger then eight print “this album is amazing”. \n",
        "# If the rating is less than or equal to 8 print “this album is ok”.\n",
        "\n",
        "rating = 8\n",
        "if rating > 8 :\n",
        "  print (\"this album is amazing\")\n",
        "else :\n",
        "  print (\"this album is ok\")"
      ],
      "metadata": {
        "colab": {
          "base_uri": "https://localhost:8080/"
        },
        "id": "6t5n4rz8LxTc",
        "outputId": "212ca67e-e20b-417d-ca1a-6190e0d47df3"
      },
      "execution_count": 7,
      "outputs": [
        {
          "output_type": "stream",
          "name": "stdout",
          "text": [
            "this album is ok\n"
          ]
        }
      ]
    },
    {
      "cell_type": "code",
      "source": [
        "# Write an if statement to determine if an album came out before 1980 or in the years: 1991 or 1993. \n",
        "# If the condition is true print out the year the album came out.\n",
        "\n",
        "year = 1979\n",
        "if year < 1980 or year == 1991 or year == 1993 :\n",
        "  print (\"this album came out already\")"
      ],
      "metadata": {
        "colab": {
          "base_uri": "https://localhost:8080/"
        },
        "id": "-HalbnHTMh69",
        "outputId": "85c695ff-e9ed-4d95-c0fe-880592ea83f4"
      },
      "execution_count": 11,
      "outputs": [
        {
          "output_type": "stream",
          "name": "stdout",
          "text": [
            "this album came out already\n"
          ]
        }
      ]
    }
  ]
}