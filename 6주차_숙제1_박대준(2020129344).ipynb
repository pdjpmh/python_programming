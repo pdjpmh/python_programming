{
  "nbformat": 4,
  "nbformat_minor": 0,
  "metadata": {
    "colab": {
      "provenance": [],
      "authorship_tag": "ABX9TyMBwhfREnQejzV/WSpM75zW",
      "include_colab_link": true
    },
    "kernelspec": {
      "name": "python3",
      "display_name": "Python 3"
    },
    "language_info": {
      "name": "python"
    }
  },
  "cells": [
    {
      "cell_type": "markdown",
      "metadata": {
        "id": "view-in-github",
        "colab_type": "text"
      },
      "source": [
        "<a href=\"https://colab.research.google.com/github/pdjpmh/python_programming/blob/main/6%EC%A3%BC%EC%B0%A8_%EC%88%99%EC%A0%9C1_%EB%B0%95%EB%8C%80%EC%A4%80(2020129344).ipynb\" target=\"_parent\"><img src=\"https://colab.research.google.com/assets/colab-badge.svg\" alt=\"Open In Colab\"/></a>"
      ]
    },
    {
      "cell_type": "code",
      "execution_count": 3,
      "metadata": {
        "id": "OnU965b5lzQ8"
      },
      "outputs": [],
      "source": [
        "# Come up with a function that divides the first input by the second input:\n",
        "def div(a,b) :\n",
        "  return(a/b)"
      ]
    },
    {
      "cell_type": "code",
      "source": [
        "div(4, 5)"
      ],
      "metadata": {
        "colab": {
          "base_uri": "https://localhost:8080/"
        },
        "id": "mbLbF1I4nHyj",
        "outputId": "3395116b-4d18-4e7e-d129-f834017bc4bb"
      },
      "execution_count": 6,
      "outputs": [
        {
          "output_type": "execute_result",
          "data": {
            "text/plain": [
              "0.8"
            ]
          },
          "metadata": {},
          "execution_count": 6
        }
      ]
    },
    {
      "cell_type": "code",
      "source": [
        "# Use the function con for the following question.\n",
        "\n",
        "def con(a, b):\n",
        "    return(a + b)"
      ],
      "metadata": {
        "id": "BOEYP43KnSiF"
      },
      "execution_count": 7,
      "outputs": []
    },
    {
      "cell_type": "code",
      "source": [
        "# Can the con function we defined before be used to add to integers or strings?\n",
        "\n",
        "# Yes\n",
        "\n",
        "c = con(2, 2)\n",
        "d = con('a','b')\n",
        "\n",
        "print(c)\n",
        "print(d)"
      ],
      "metadata": {
        "colab": {
          "base_uri": "https://localhost:8080/"
        },
        "id": "7T2GcX-SnyAX",
        "outputId": "2ea843c7-1514-4544-cb0f-1315f312546f"
      },
      "execution_count": 10,
      "outputs": [
        {
          "output_type": "stream",
          "name": "stdout",
          "text": [
            "4\n",
            "ab\n"
          ]
        }
      ]
    },
    {
      "cell_type": "code",
      "source": [
        "# Can the con function we defined before be used to concentrate a list or tuple?\n",
        "\n",
        "# yes\n",
        "\n",
        "L = con(['a', 1], ['b', 1])\n",
        "T = con((1,2), (3,4))\n",
        "\n",
        "print(L)\n",
        "print(T)"
      ],
      "metadata": {
        "colab": {
          "base_uri": "https://localhost:8080/"
        },
        "id": "aBUj63bmokYU",
        "outputId": "8d63a969-e4b8-41f1-e11c-78c770510ac2"
      },
      "execution_count": 13,
      "outputs": [
        {
          "output_type": "stream",
          "name": "stdout",
          "text": [
            "['a', 1, 'b', 1]\n",
            "(1, 2, 3, 4)\n"
          ]
        }
      ]
    }
  ]
}