{
  "nbformat": 4,
  "nbformat_minor": 0,
  "metadata": {
    "colab": {
      "provenance": [],
      "authorship_tag": "ABX9TyNCZApTfuP1LR6RoiBmObBY",
      "include_colab_link": true
    },
    "kernelspec": {
      "name": "python3",
      "display_name": "Python 3"
    },
    "language_info": {
      "name": "python"
    }
  },
  "cells": [
    {
      "cell_type": "markdown",
      "metadata": {
        "id": "view-in-github",
        "colab_type": "text"
      },
      "source": [
        "<a href=\"https://colab.research.google.com/github/pdjpmh/python_programming/blob/main/%EC%A4%91%EA%B0%84%EA%B3%A0%EC%82%AC_%EB%B0%95%EB%8C%80%EC%A4%80(2020129344).ipynb\" target=\"_parent\"><img src=\"https://colab.research.google.com/assets/colab-badge.svg\" alt=\"Open In Colab\"/></a>"
      ]
    },
    {
      "cell_type": "code",
      "source": [
        "weight = float(input(\"몸무게를 입력하세요 (kg): \"))\n",
        "while weight != -1000:\n",
        "    height = float(input(\"키를 입력하세요 (cm): \")) / 100\n",
        "    bmi = weight / (height ** 2)\n",
        "    if bmi <= 18.5 : \n",
        "      print(\"BMI는 {:.2f}입니다.\".format(bmi), \"=> 저체중\")\n",
        "    elif bmi <= 22.9 :\n",
        "      print(\"BMI는 {:.2f}입니다.\".format(bmi), \"=> 정상\")\n",
        "    elif bmi <= 24.9 :\n",
        "      print(\"BMI는 {:.2f}입니다.\".format(bmi), \"=> 과체중\")\n",
        "    else :\n",
        "      print(\"BMI는 {:.2f}입니다.\".format(bmi), \"=> 비만\")\n",
        "    weight = float(input(\"몸무게를 입력하세요 (kg): \"))"
      ],
      "metadata": {
        "colab": {
          "base_uri": "https://localhost:8080/"
        },
        "id": "31hHKzfzjWYr",
        "outputId": "79fb2974-d884-4a62-d768-f82bb62abb3a"
      },
      "execution_count": 13,
      "outputs": [
        {
          "name": "stdout",
          "output_type": "stream",
          "text": [
            "몸무게를 입력하세요 (kg): 50\n",
            "키를 입력하세요 (cm): 170\n",
            "BMI는 17.30입니다. => 저체중\n",
            "몸무게를 입력하세요 (kg): 50\n",
            "키를 입력하세요 (cm): 160\n",
            "BMI는 19.53입니다. => 정상\n",
            "몸무게를 입력하세요 (kg): 50\n",
            "키를 입력하세요 (cm): 145\n",
            "BMI는 23.78입니다. => 과체중\n",
            "몸무게를 입력하세요 (kg): 50\n",
            "키를 입력하세요 (cm): 130\n",
            "BMI는 29.59입니다. => 비만\n",
            "몸무게를 입력하세요 (kg): -1000\n"
          ]
        }
      ]
    },
    {
      "cell_type": "code",
      "source": [
        "while True:\n",
        "    num1 = int(input(\"첫 번째 숫자를 입력하세요: \"))\n",
        "    num2 = int(input(\"두 번째 숫자를 입력하세요: \"))\n",
        "    if num1 != 0:\n",
        "      if num1 > num2 :\n",
        "        print(\"{} {}\".format(num1, num2))\n",
        "      elif num1 < num2 :\n",
        "        print(\"{} {}\".format(num2, num1))\n",
        "      else :  \n",
        "        print(\"두 숫자는 같습니다.\")\n",
        "    elif num2 == 0:\n",
        "      break\n",
        "    else :\n",
        "      continue"
      ],
      "metadata": {
        "colab": {
          "base_uri": "https://localhost:8080/"
        },
        "id": "Km1NNpAgstu_",
        "outputId": "0a03ae3c-a610-4ab1-b5bd-10f06d4287c0"
      },
      "execution_count": 33,
      "outputs": [
        {
          "name": "stdout",
          "output_type": "stream",
          "text": [
            "첫 번째 숫자를 입력하세요: 3\n",
            "두 번째 숫자를 입력하세요: 9\n",
            "9 3\n",
            "첫 번째 숫자를 입력하세요: 8\n",
            "두 번째 숫자를 입력하세요: 1\n",
            "8 1\n",
            "첫 번째 숫자를 입력하세요: 4\n",
            "두 번째 숫자를 입력하세요: 4\n",
            "두 숫자는 같습니다.\n",
            "첫 번째 숫자를 입력하세요: 0\n",
            "두 번째 숫자를 입력하세요: 0\n"
          ]
        }
      ]
    },
    {
      "cell_type": "code",
      "source": [
        "students = []\n",
        "for i in range(10):\n",
        "    name = input(\"학생의 이름을 입력하세요: \")\n",
        "    score = int(input(\"학생의 점수를 입력하세요: \"))\n",
        "    students.append({'name': name, 'score': score})\n",
        "\n",
        "# 학생들을 점수순으로 정렬\n",
        "students.sort(key=lambda x: x['score'], reverse=True)\n",
        "\n",
        "# 등수 매기기\n",
        "for i in range(len(students)):\n",
        "    rank = i + 1\n",
        "    if i > 0 and students[i]['score'] == students[i-1]['score']:\n",
        "        rank = students[i-1]['rank']\n",
        "    students[i]['rank'] = rank\n",
        "\n",
        "# 등수 순으로 출력\n",
        "for student in students:\n",
        "    print(\"{}, 점수: {}, 등수: {}\".format(student['name'], student['score'], student['rank']))"
      ],
      "metadata": {
        "colab": {
          "base_uri": "https://localhost:8080/"
        },
        "id": "pxxKSN6ntWcr",
        "outputId": "041bc910-fe8a-4f28-ac81-60c9690268a5"
      },
      "execution_count": 34,
      "outputs": [
        {
          "output_type": "stream",
          "name": "stdout",
          "text": [
            "학생의 이름을 입력하세요: S1\n",
            "학생의 점수를 입력하세요: 60\n",
            "학생의 이름을 입력하세요: S2\n",
            "학생의 점수를 입력하세요: 50\n",
            "학생의 이름을 입력하세요: S3\n",
            "학생의 점수를 입력하세요: 67\n",
            "학생의 이름을 입력하세요: S4\n",
            "학생의 점수를 입력하세요: 90\n",
            "학생의 이름을 입력하세요: S5\n",
            "학생의 점수를 입력하세요: 100\n",
            "학생의 이름을 입력하세요: S6\n",
            "학생의 점수를 입력하세요: 20\n",
            "학생의 이름을 입력하세요: S7\n",
            "학생의 점수를 입력하세요: 40\n",
            "학생의 이름을 입력하세요: S8\n",
            "학생의 점수를 입력하세요: 79\n",
            "학생의 이름을 입력하세요: s9\n",
            "학생의 점수를 입력하세요: 90\n",
            "학생의 이름을 입력하세요: s10\n",
            "학생의 점수를 입력하세요: 88\n",
            "S5, 점수: 100, 등수: 1\n",
            "S4, 점수: 90, 등수: 2\n",
            "s9, 점수: 90, 등수: 2\n",
            "s10, 점수: 88, 등수: 4\n",
            "S8, 점수: 79, 등수: 5\n",
            "S3, 점수: 67, 등수: 6\n",
            "S1, 점수: 60, 등수: 7\n",
            "S2, 점수: 50, 등수: 8\n",
            "S7, 점수: 40, 등수: 9\n",
            "S6, 점수: 20, 등수: 10\n"
          ]
        }
      ]
    }
  ]
}