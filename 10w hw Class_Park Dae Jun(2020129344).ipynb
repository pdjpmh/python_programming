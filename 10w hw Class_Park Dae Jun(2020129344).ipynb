{
 "cells": [
  {
   "cell_type": "code",
   "execution_count": 1,
   "id": "832c1398",
   "metadata": {},
   "outputs": [],
   "source": [
    "result1 = 0\n",
    "result2 = 0"
   ]
  },
  {
   "cell_type": "code",
   "execution_count": 2,
   "id": "bf52d7c1",
   "metadata": {},
   "outputs": [],
   "source": [
    "def adder1(num):\n",
    "    global result1\n",
    "    result1 += num\n",
    "    return result1"
   ]
  },
  {
   "cell_type": "code",
   "execution_count": 3,
   "id": "c7436bb1",
   "metadata": {},
   "outputs": [],
   "source": [
    "def adder2(num):\n",
    "    global result2\n",
    "    result2 += num\n",
    "    return result2"
   ]
  },
  {
   "cell_type": "code",
   "execution_count": 4,
   "id": "19031f03",
   "metadata": {},
   "outputs": [
    {
     "data": {
      "text/plain": [
       "3"
      ]
     },
     "execution_count": 4,
     "metadata": {},
     "output_type": "execute_result"
    }
   ],
   "source": [
    "adder1(3)"
   ]
  },
  {
   "cell_type": "code",
   "execution_count": 5,
   "id": "7b70103a",
   "metadata": {},
   "outputs": [
    {
     "data": {
      "text/plain": [
       "7"
      ]
     },
     "execution_count": 5,
     "metadata": {},
     "output_type": "execute_result"
    }
   ],
   "source": [
    "adder1(4)"
   ]
  },
  {
   "cell_type": "code",
   "execution_count": 6,
   "id": "e73b2c17",
   "metadata": {},
   "outputs": [
    {
     "data": {
      "text/plain": [
       "4"
      ]
     },
     "execution_count": 6,
     "metadata": {},
     "output_type": "execute_result"
    }
   ],
   "source": [
    "adder2(4)"
   ]
  },
  {
   "cell_type": "code",
   "execution_count": 14,
   "id": "f1586833",
   "metadata": {},
   "outputs": [],
   "source": [
    "class Calculator :\n",
    "    def __init__(self) :\n",
    "        self.result = 0\n",
    "        \n",
    "    def adder(self, num):\n",
    "        self.result += num\n",
    "        return self.result\n",
    "    "
   ]
  },
  {
   "cell_type": "code",
   "execution_count": 15,
   "id": "ea01277d",
   "metadata": {},
   "outputs": [],
   "source": [
    "cal1 = Calculator()"
   ]
  },
  {
   "cell_type": "code",
   "execution_count": 16,
   "id": "5c4cd22d",
   "metadata": {},
   "outputs": [
    {
     "data": {
      "text/plain": [
       "3"
      ]
     },
     "execution_count": 16,
     "metadata": {},
     "output_type": "execute_result"
    }
   ],
   "source": [
    "cal1.adder(3)"
   ]
  },
  {
   "cell_type": "code",
   "execution_count": 17,
   "id": "a946b0d3",
   "metadata": {},
   "outputs": [
    {
     "data": {
      "text/plain": [
       "7"
      ]
     },
     "execution_count": 17,
     "metadata": {},
     "output_type": "execute_result"
    }
   ],
   "source": [
    "cal1.adder(4)"
   ]
  },
  {
   "cell_type": "code",
   "execution_count": 18,
   "id": "c052e14b",
   "metadata": {},
   "outputs": [],
   "source": [
    "cal2 = Calculator()"
   ]
  },
  {
   "cell_type": "code",
   "execution_count": 19,
   "id": "c112562b",
   "metadata": {},
   "outputs": [
    {
     "data": {
      "text/plain": [
       "3"
      ]
     },
     "execution_count": 19,
     "metadata": {},
     "output_type": "execute_result"
    }
   ],
   "source": [
    "cal2.adder(3)"
   ]
  },
  {
   "cell_type": "code",
   "execution_count": 43,
   "id": "30aeaf97",
   "metadata": {},
   "outputs": [],
   "source": [
    "class Service:\n",
    "    secret = \"지구는 40006년에 멸망한다.\"\n",
    "    \n",
    "    def __init__(self, name):\n",
    "        self.name = name\n",
    "        \n",
    "    def sum(self, a, b):\n",
    "        result = a+b\n",
    "        print(\"%s님, %s + %s = %s이다.\" % (self.name, a, b, result))"
   ]
  },
  {
   "cell_type": "code",
   "execution_count": 45,
   "id": "767966d6",
   "metadata": {},
   "outputs": [],
   "source": [
    "an = Service(\"샐리\")"
   ]
  },
  {
   "cell_type": "code",
   "execution_count": 46,
   "id": "a51bb6da",
   "metadata": {},
   "outputs": [
    {
     "name": "stdout",
     "output_type": "stream",
     "text": [
      "샐리님, 1 + 1 = 2이다.\n"
     ]
    }
   ],
   "source": [
    "an.sum(1,1)"
   ]
  },
  {
   "cell_type": "code",
   "execution_count": 63,
   "id": "4a2747d7",
   "metadata": {},
   "outputs": [],
   "source": [
    "class FourCal:\n",
    "    def setdata(self, first, second):\n",
    "        self.first = first\n",
    "        self.second = second\n",
    "    def sum(self):\n",
    "        result = self.first + self.second\n",
    "        return result\n",
    "    def mul(self):\n",
    "        result = self.first * self.second\n",
    "        return result\n",
    "    def sub(self):\n",
    "        result = self.first - self.second\n",
    "        return result\n",
    "    def div(self):\n",
    "        result = self.first / self.second\n",
    "        return result"
   ]
  },
  {
   "cell_type": "code",
   "execution_count": 64,
   "id": "81504b67",
   "metadata": {},
   "outputs": [],
   "source": [
    "a = FourCal()"
   ]
  },
  {
   "cell_type": "code",
   "execution_count": 65,
   "id": "5e736bce",
   "metadata": {},
   "outputs": [],
   "source": [
    "a.setdata(4,2)"
   ]
  },
  {
   "cell_type": "code",
   "execution_count": 66,
   "id": "c21adf36",
   "metadata": {},
   "outputs": [
    {
     "data": {
      "text/plain": [
       "6"
      ]
     },
     "execution_count": 66,
     "metadata": {},
     "output_type": "execute_result"
    }
   ],
   "source": [
    "a.sum()"
   ]
  },
  {
   "cell_type": "code",
   "execution_count": 67,
   "id": "977657a1",
   "metadata": {},
   "outputs": [
    {
     "data": {
      "text/plain": [
       "2"
      ]
     },
     "execution_count": 67,
     "metadata": {},
     "output_type": "execute_result"
    }
   ],
   "source": [
    "a.sub()"
   ]
  },
  {
   "cell_type": "code",
   "execution_count": 68,
   "id": "77f5d136",
   "metadata": {},
   "outputs": [
    {
     "data": {
      "text/plain": [
       "8"
      ]
     },
     "execution_count": 68,
     "metadata": {},
     "output_type": "execute_result"
    }
   ],
   "source": [
    "a.mul()"
   ]
  },
  {
   "cell_type": "code",
   "execution_count": 69,
   "id": "8db60449",
   "metadata": {},
   "outputs": [
    {
     "data": {
      "text/plain": [
       "2.0"
      ]
     },
     "execution_count": 69,
     "metadata": {},
     "output_type": "execute_result"
    }
   ],
   "source": [
    "a.div()"
   ]
  },
  {
   "cell_type": "code",
   "execution_count": 73,
   "id": "2d98baee",
   "metadata": {},
   "outputs": [
    {
     "name": "stdout",
     "output_type": "stream",
     "text": [
      "Player1 rolled[4, 2, 4]\n",
      "Player2 rolled[2, 3, 1]\n",
      "Player1 wins\n"
     ]
    }
   ],
   "source": [
    "import random\n",
    "\n",
    "player1_dice = []\n",
    "player2_dice = []\n",
    "\n",
    "for i in range(3):\n",
    "    player1_dice.append(random.randint(1,6))\n",
    "    player2_dice.append(random.randint(1,6))\n",
    "    \n",
    "print(\"Player1 rolled\" + str(player1_dice))\n",
    "print(\"Player2 rolled\" + str(player2_dice))\n",
    "\n",
    "if sum(player1_dice) == sum(player2_dice):\n",
    "    print(\"Draw\")\n",
    "elif sum(player1_dice) > sum(player2_dice):\n",
    "    print(\"Player1 wins\")\n",
    "else:\n",
    "    print(\"Player2 wins\")"
   ]
  },
  {
   "cell_type": "code",
   "execution_count": 77,
   "id": "68473242",
   "metadata": {},
   "outputs": [
    {
     "name": "stdout",
     "output_type": "stream",
     "text": [
      "Player 1 rolled[3, 1, 5]\n",
      "Player 2 rolled[4, 1, 4]\n",
      "Draw!\n"
     ]
    }
   ],
   "source": [
    "from random import randint\n",
    "\n",
    "class Player:\n",
    "    def __init__(self):\n",
    "        self.dice = []\n",
    "        \n",
    "    def roll(self):\n",
    "        self.dice = []\n",
    "        for i in range(3):\n",
    "            self.dice.append(randint(1,6))\n",
    "            \n",
    "    def get_dice(self):\n",
    "        return self.dice\n",
    "\n",
    "    \n",
    "player1 = Player()\n",
    "player2 = Player()\n",
    "\n",
    "player1.roll()\n",
    "player2.roll()\n",
    "\n",
    "print(\"Player 1 rolled\" + str(player1.get_dice()))\n",
    "print(\"Player 2 rolled\" + str(player2.get_dice()))\n",
    "\n",
    "if sum(player1.get_dice()) == sum(player2.get_dice()) :\n",
    "    print(\"Draw!\")\n",
    "elif sum(player1.get_dice()) > sum(player2.get_dice()) :\n",
    "    print(\"Player 1 wins!\")\n",
    "else :\n",
    "    print(\"Player 2 wins!\")\n",
    "    "
   ]
  },
  {
   "cell_type": "code",
   "execution_count": null,
   "id": "6c1123a8",
   "metadata": {},
   "outputs": [],
   "source": []
  },
  {
   "cell_type": "code",
   "execution_count": null,
   "id": "29982d11",
   "metadata": {},
   "outputs": [],
   "source": []
  },
  {
   "cell_type": "code",
   "execution_count": null,
   "id": "5f02edea",
   "metadata": {},
   "outputs": [],
   "source": []
  }
 ],
 "metadata": {
  "kernelspec": {
   "display_name": "Python 3 (ipykernel)",
   "language": "python",
   "name": "python3"
  },
  "language_info": {
   "codemirror_mode": {
    "name": "ipython",
    "version": 3
   },
   "file_extension": ".py",
   "mimetype": "text/x-python",
   "name": "python",
   "nbconvert_exporter": "python",
   "pygments_lexer": "ipython3",
   "version": "3.11.2"
  }
 },
 "nbformat": 4,
 "nbformat_minor": 5
}
